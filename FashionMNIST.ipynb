{
  "nbformat": 4,
  "nbformat_minor": 0,
  "metadata": {
    "colab": {
      "provenance": [],
      "gpuType": "A100"
    },
    "kernelspec": {
      "name": "python3",
      "display_name": "Python 3"
    },
    "language_info": {
      "name": "python"
    },
    "accelerator": "GPU"
  },
  "cells": [
    {
      "cell_type": "markdown",
      "source": [
        "## Install the libraries"
      ],
      "metadata": {
        "id": "05TuGmZaJgGS"
      }
    },
    {
      "cell_type": "code",
      "source": [
        "!pip install git+https://github.com/cleanlab/cleanlab.git\n",
        "!pip install cleanlab\n",
        "!pip install 'cleanlab[DataLab]'\n",
        "!pip install skorch"
      ],
      "metadata": {
        "colab": {
          "base_uri": "https://localhost:8080/"
        },
        "id": "tf0BlrYkJbLv",
        "outputId": "b4793957-77f4-4378-fa7f-5d20ab525df6"
      },
      "execution_count": 1,
      "outputs": [
        {
          "output_type": "stream",
          "name": "stdout",
          "text": [
            "Collecting git+https://github.com/cleanlab/cleanlab.git\n",
            "  Cloning https://github.com/cleanlab/cleanlab.git to /tmp/pip-req-build-dghxpuo1\n",
            "  Running command git clone --filter=blob:none --quiet https://github.com/cleanlab/cleanlab.git /tmp/pip-req-build-dghxpuo1\n",
            "  Resolved https://github.com/cleanlab/cleanlab.git to commit 21b82a325e7828d25292c25c121b908075ab7204\n",
            "  Installing build dependencies ... \u001b[?25l\u001b[?25hdone\n",
            "  Getting requirements to build wheel ... \u001b[?25l\u001b[?25hdone\n",
            "  Preparing metadata (pyproject.toml) ... \u001b[?25l\u001b[?25hdone\n",
            "Requirement already satisfied: numpy>=1.20.0 in /usr/local/lib/python3.10/dist-packages (from cleanlab==2.4.1) (1.23.5)\n",
            "Requirement already satisfied: scikit-learn>=1.0 in /usr/local/lib/python3.10/dist-packages (from cleanlab==2.4.1) (1.2.2)\n",
            "Requirement already satisfied: tqdm>=4.53.0 in /usr/local/lib/python3.10/dist-packages (from cleanlab==2.4.1) (4.66.1)\n",
            "Requirement already satisfied: pandas>=1.1.5 in /usr/local/lib/python3.10/dist-packages (from cleanlab==2.4.1) (1.5.3)\n",
            "Requirement already satisfied: termcolor>=2.0.0 in /usr/local/lib/python3.10/dist-packages (from cleanlab==2.4.1) (2.3.0)\n",
            "Requirement already satisfied: python-dateutil>=2.8.1 in /usr/local/lib/python3.10/dist-packages (from pandas>=1.1.5->cleanlab==2.4.1) (2.8.2)\n",
            "Requirement already satisfied: pytz>=2020.1 in /usr/local/lib/python3.10/dist-packages (from pandas>=1.1.5->cleanlab==2.4.1) (2023.3)\n",
            "Requirement already satisfied: scipy>=1.3.2 in /usr/local/lib/python3.10/dist-packages (from scikit-learn>=1.0->cleanlab==2.4.1) (1.10.1)\n",
            "Requirement already satisfied: joblib>=1.1.1 in /usr/local/lib/python3.10/dist-packages (from scikit-learn>=1.0->cleanlab==2.4.1) (1.3.2)\n",
            "Requirement already satisfied: threadpoolctl>=2.0.0 in /usr/local/lib/python3.10/dist-packages (from scikit-learn>=1.0->cleanlab==2.4.1) (3.2.0)\n",
            "Requirement already satisfied: six>=1.5 in /usr/local/lib/python3.10/dist-packages (from python-dateutil>=2.8.1->pandas>=1.1.5->cleanlab==2.4.1) (1.16.0)\n",
            "Building wheels for collected packages: cleanlab\n",
            "  Building wheel for cleanlab (pyproject.toml) ... \u001b[?25l\u001b[?25hdone\n",
            "  Created wheel for cleanlab: filename=cleanlab-2.4.1-py3-none-any.whl size=283245 sha256=edf52e592bd49cdf68578db621e47ff83c40fc886c23121516877e009fc6322c\n",
            "  Stored in directory: /tmp/pip-ephem-wheel-cache-vrbbk889/wheels/3d/53/8f/09fde0499e2135d2566a50fe7afd0398373244187206c7d441\n",
            "Successfully built cleanlab\n",
            "Installing collected packages: cleanlab\n",
            "Successfully installed cleanlab-2.4.1\n",
            "Requirement already satisfied: cleanlab in /usr/local/lib/python3.10/dist-packages (2.4.1)\n",
            "Requirement already satisfied: numpy>=1.20.0 in /usr/local/lib/python3.10/dist-packages (from cleanlab) (1.23.5)\n",
            "Requirement already satisfied: scikit-learn>=1.0 in /usr/local/lib/python3.10/dist-packages (from cleanlab) (1.2.2)\n",
            "Requirement already satisfied: tqdm>=4.53.0 in /usr/local/lib/python3.10/dist-packages (from cleanlab) (4.66.1)\n",
            "Requirement already satisfied: pandas>=1.1.5 in /usr/local/lib/python3.10/dist-packages (from cleanlab) (1.5.3)\n",
            "Requirement already satisfied: termcolor>=2.0.0 in /usr/local/lib/python3.10/dist-packages (from cleanlab) (2.3.0)\n",
            "Requirement already satisfied: python-dateutil>=2.8.1 in /usr/local/lib/python3.10/dist-packages (from pandas>=1.1.5->cleanlab) (2.8.2)\n",
            "Requirement already satisfied: pytz>=2020.1 in /usr/local/lib/python3.10/dist-packages (from pandas>=1.1.5->cleanlab) (2023.3)\n",
            "Requirement already satisfied: scipy>=1.3.2 in /usr/local/lib/python3.10/dist-packages (from scikit-learn>=1.0->cleanlab) (1.10.1)\n",
            "Requirement already satisfied: joblib>=1.1.1 in /usr/local/lib/python3.10/dist-packages (from scikit-learn>=1.0->cleanlab) (1.3.2)\n",
            "Requirement already satisfied: threadpoolctl>=2.0.0 in /usr/local/lib/python3.10/dist-packages (from scikit-learn>=1.0->cleanlab) (3.2.0)\n",
            "Requirement already satisfied: six>=1.5 in /usr/local/lib/python3.10/dist-packages (from python-dateutil>=2.8.1->pandas>=1.1.5->cleanlab) (1.16.0)\n",
            "Requirement already satisfied: cleanlab[DataLab] in /usr/local/lib/python3.10/dist-packages (2.4.1)\n",
            "Requirement already satisfied: numpy>=1.20.0 in /usr/local/lib/python3.10/dist-packages (from cleanlab[DataLab]) (1.23.5)\n",
            "Requirement already satisfied: scikit-learn>=1.0 in /usr/local/lib/python3.10/dist-packages (from cleanlab[DataLab]) (1.2.2)\n",
            "Requirement already satisfied: tqdm>=4.53.0 in /usr/local/lib/python3.10/dist-packages (from cleanlab[DataLab]) (4.66.1)\n",
            "Requirement already satisfied: pandas>=1.1.5 in /usr/local/lib/python3.10/dist-packages (from cleanlab[DataLab]) (1.5.3)\n",
            "Requirement already satisfied: termcolor>=2.0.0 in /usr/local/lib/python3.10/dist-packages (from cleanlab[DataLab]) (2.3.0)\n",
            "Collecting datasets>=2.7.0 (from cleanlab[DataLab])\n",
            "  Downloading datasets-2.14.4-py3-none-any.whl (519 kB)\n",
            "\u001b[2K     \u001b[90m━━━━━━━━━━━━━━━━━━━━━━━━━━━━━━━━━━━━━━━\u001b[0m \u001b[32m519.3/519.3 kB\u001b[0m \u001b[31m7.5 MB/s\u001b[0m eta \u001b[36m0:00:00\u001b[0m\n",
            "\u001b[?25hRequirement already satisfied: pyarrow>=8.0.0 in /usr/local/lib/python3.10/dist-packages (from datasets>=2.7.0->cleanlab[DataLab]) (9.0.0)\n",
            "Collecting dill<0.3.8,>=0.3.0 (from datasets>=2.7.0->cleanlab[DataLab])\n",
            "  Downloading dill-0.3.7-py3-none-any.whl (115 kB)\n",
            "\u001b[2K     \u001b[90m━━━━━━━━━━━━━━━━━━━━━━━━━━━━━━━━━━━━━━\u001b[0m \u001b[32m115.3/115.3 kB\u001b[0m \u001b[31m10.0 MB/s\u001b[0m eta \u001b[36m0:00:00\u001b[0m\n",
            "\u001b[?25hRequirement already satisfied: requests>=2.19.0 in /usr/local/lib/python3.10/dist-packages (from datasets>=2.7.0->cleanlab[DataLab]) (2.31.0)\n",
            "Collecting xxhash (from datasets>=2.7.0->cleanlab[DataLab])\n",
            "  Downloading xxhash-3.3.0-cp310-cp310-manylinux_2_17_x86_64.manylinux2014_x86_64.whl (194 kB)\n",
            "\u001b[2K     \u001b[90m━━━━━━━━━━━━━━━━━━━━━━━━━━━━━━━━━━━━━━\u001b[0m \u001b[32m194.1/194.1 kB\u001b[0m \u001b[31m11.7 MB/s\u001b[0m eta \u001b[36m0:00:00\u001b[0m\n",
            "\u001b[?25hCollecting multiprocess (from datasets>=2.7.0->cleanlab[DataLab])\n",
            "  Downloading multiprocess-0.70.15-py310-none-any.whl (134 kB)\n",
            "\u001b[2K     \u001b[90m━━━━━━━━━━━━━━━━━━━━━━━━━━━━━━━━━━━━━━\u001b[0m \u001b[32m134.8/134.8 kB\u001b[0m \u001b[31m11.6 MB/s\u001b[0m eta \u001b[36m0:00:00\u001b[0m\n",
            "\u001b[?25hRequirement already satisfied: fsspec[http]>=2021.11.1 in /usr/local/lib/python3.10/dist-packages (from datasets>=2.7.0->cleanlab[DataLab]) (2023.6.0)\n",
            "Requirement already satisfied: aiohttp in /usr/local/lib/python3.10/dist-packages (from datasets>=2.7.0->cleanlab[DataLab]) (3.8.5)\n",
            "Collecting huggingface-hub<1.0.0,>=0.14.0 (from datasets>=2.7.0->cleanlab[DataLab])\n",
            "  Downloading huggingface_hub-0.16.4-py3-none-any.whl (268 kB)\n",
            "\u001b[2K     \u001b[90m━━━━━━━━━━━━━━━━━━━━━━━━━━━━━━━━━━━━━━\u001b[0m \u001b[32m268.8/268.8 kB\u001b[0m \u001b[31m12.9 MB/s\u001b[0m eta \u001b[36m0:00:00\u001b[0m\n",
            "\u001b[?25hRequirement already satisfied: packaging in /usr/local/lib/python3.10/dist-packages (from datasets>=2.7.0->cleanlab[DataLab]) (23.1)\n",
            "Requirement already satisfied: pyyaml>=5.1 in /usr/local/lib/python3.10/dist-packages (from datasets>=2.7.0->cleanlab[DataLab]) (6.0.1)\n",
            "Requirement already satisfied: python-dateutil>=2.8.1 in /usr/local/lib/python3.10/dist-packages (from pandas>=1.1.5->cleanlab[DataLab]) (2.8.2)\n",
            "Requirement already satisfied: pytz>=2020.1 in /usr/local/lib/python3.10/dist-packages (from pandas>=1.1.5->cleanlab[DataLab]) (2023.3)\n",
            "Requirement already satisfied: scipy>=1.3.2 in /usr/local/lib/python3.10/dist-packages (from scikit-learn>=1.0->cleanlab[DataLab]) (1.10.1)\n",
            "Requirement already satisfied: joblib>=1.1.1 in /usr/local/lib/python3.10/dist-packages (from scikit-learn>=1.0->cleanlab[DataLab]) (1.3.2)\n",
            "Requirement already satisfied: threadpoolctl>=2.0.0 in /usr/local/lib/python3.10/dist-packages (from scikit-learn>=1.0->cleanlab[DataLab]) (3.2.0)\n",
            "Requirement already satisfied: attrs>=17.3.0 in /usr/local/lib/python3.10/dist-packages (from aiohttp->datasets>=2.7.0->cleanlab[DataLab]) (23.1.0)\n",
            "Requirement already satisfied: charset-normalizer<4.0,>=2.0 in /usr/local/lib/python3.10/dist-packages (from aiohttp->datasets>=2.7.0->cleanlab[DataLab]) (3.2.0)\n",
            "Requirement already satisfied: multidict<7.0,>=4.5 in /usr/local/lib/python3.10/dist-packages (from aiohttp->datasets>=2.7.0->cleanlab[DataLab]) (6.0.4)\n",
            "Requirement already satisfied: async-timeout<5.0,>=4.0.0a3 in /usr/local/lib/python3.10/dist-packages (from aiohttp->datasets>=2.7.0->cleanlab[DataLab]) (4.0.3)\n",
            "Requirement already satisfied: yarl<2.0,>=1.0 in /usr/local/lib/python3.10/dist-packages (from aiohttp->datasets>=2.7.0->cleanlab[DataLab]) (1.9.2)\n",
            "Requirement already satisfied: frozenlist>=1.1.1 in /usr/local/lib/python3.10/dist-packages (from aiohttp->datasets>=2.7.0->cleanlab[DataLab]) (1.4.0)\n",
            "Requirement already satisfied: aiosignal>=1.1.2 in /usr/local/lib/python3.10/dist-packages (from aiohttp->datasets>=2.7.0->cleanlab[DataLab]) (1.3.1)\n",
            "Requirement already satisfied: filelock in /usr/local/lib/python3.10/dist-packages (from huggingface-hub<1.0.0,>=0.14.0->datasets>=2.7.0->cleanlab[DataLab]) (3.12.2)\n",
            "Requirement already satisfied: typing-extensions>=3.7.4.3 in /usr/local/lib/python3.10/dist-packages (from huggingface-hub<1.0.0,>=0.14.0->datasets>=2.7.0->cleanlab[DataLab]) (4.7.1)\n",
            "Requirement already satisfied: six>=1.5 in /usr/local/lib/python3.10/dist-packages (from python-dateutil>=2.8.1->pandas>=1.1.5->cleanlab[DataLab]) (1.16.0)\n",
            "Requirement already satisfied: idna<4,>=2.5 in /usr/local/lib/python3.10/dist-packages (from requests>=2.19.0->datasets>=2.7.0->cleanlab[DataLab]) (3.4)\n",
            "Requirement already satisfied: urllib3<3,>=1.21.1 in /usr/local/lib/python3.10/dist-packages (from requests>=2.19.0->datasets>=2.7.0->cleanlab[DataLab]) (2.0.4)\n",
            "Requirement already satisfied: certifi>=2017.4.17 in /usr/local/lib/python3.10/dist-packages (from requests>=2.19.0->datasets>=2.7.0->cleanlab[DataLab]) (2023.7.22)\n",
            "Installing collected packages: xxhash, dill, multiprocess, huggingface-hub, datasets\n",
            "Successfully installed datasets-2.14.4 dill-0.3.7 huggingface-hub-0.16.4 multiprocess-0.70.15 xxhash-3.3.0\n",
            "Collecting skorch\n",
            "  Downloading skorch-0.14.0-py3-none-any.whl (221 kB)\n",
            "\u001b[2K     \u001b[90m━━━━━━━━━━━━━━━━━━━━━━━━━━━━━━━━━━━━━━━\u001b[0m \u001b[32m221.3/221.3 kB\u001b[0m \u001b[31m5.1 MB/s\u001b[0m eta \u001b[36m0:00:00\u001b[0m\n",
            "\u001b[?25hRequirement already satisfied: numpy>=1.13.3 in /usr/local/lib/python3.10/dist-packages (from skorch) (1.23.5)\n",
            "Requirement already satisfied: scikit-learn>=0.22.0 in /usr/local/lib/python3.10/dist-packages (from skorch) (1.2.2)\n",
            "Requirement already satisfied: scipy>=1.1.0 in /usr/local/lib/python3.10/dist-packages (from skorch) (1.10.1)\n",
            "Requirement already satisfied: tabulate>=0.7.7 in /usr/local/lib/python3.10/dist-packages (from skorch) (0.9.0)\n",
            "Requirement already satisfied: tqdm>=4.14.0 in /usr/local/lib/python3.10/dist-packages (from skorch) (4.66.1)\n",
            "Requirement already satisfied: joblib>=1.1.1 in /usr/local/lib/python3.10/dist-packages (from scikit-learn>=0.22.0->skorch) (1.3.2)\n",
            "Requirement already satisfied: threadpoolctl>=2.0.0 in /usr/local/lib/python3.10/dist-packages (from scikit-learn>=0.22.0->skorch) (3.2.0)\n",
            "Installing collected packages: skorch\n",
            "Successfully installed skorch-0.14.0\n"
          ]
        }
      ]
    },
    {
      "cell_type": "markdown",
      "source": [
        "## Import Libraries"
      ],
      "metadata": {
        "id": "rSILXXU7KegV"
      }
    },
    {
      "cell_type": "code",
      "source": [
        "from sklearn.datasets import fetch_openml\n",
        "import numpy as np\n",
        "import matplotlib.pyplot as plt\n",
        "import pandas as pd\n",
        "import torch\n",
        "import warnings\n",
        "import math\n",
        "\n",
        "#SEED = 123\n",
        "#np.random.seed(SEED)\n",
        "#torch.manual_seed(SEED)\n",
        "warnings.filterwarnings(\"ignore\", \"Lazy modules are a new feature.*\")"
      ],
      "metadata": {
        "id": "6_3gEhd2KZbY"
      },
      "execution_count": 1,
      "outputs": []
    },
    {
      "cell_type": "markdown",
      "source": [
        "## Fashion MNIST"
      ],
      "metadata": {
        "id": "2ElXLT31NGB7"
      }
    },
    {
      "cell_type": "markdown",
      "source": [
        "Fetching the dataset"
      ],
      "metadata": {
        "id": "yUey4McWIX6X"
      }
    },
    {
      "cell_type": "code",
      "source": [
        "fashion = fetch_openml(\"Fashion-MNIST\")"
      ],
      "metadata": {
        "colab": {
          "base_uri": "https://localhost:8080/"
        },
        "id": "JBJWrlUBcmiu",
        "outputId": "0e0b94f0-7eae-48d4-9c87-fab31ebd287a"
      },
      "execution_count": 2,
      "outputs": [
        {
          "output_type": "stream",
          "name": "stderr",
          "text": [
            "/usr/local/lib/python3.10/dist-packages/sklearn/datasets/_openml.py:968: FutureWarning: The default value of `parser` will change from `'liac-arff'` to `'auto'` in 1.4. You can set `parser='auto'` to silence this warning. Therefore, an `ImportError` will be raised from 1.4 if the dataset is dense and pandas is not installed. Note that the pandas parser may return different data types. See the Notes Section in fetch_openml's API doc for details.\n",
            "  warn(\n"
          ]
        }
      ]
    },
    {
      "cell_type": "code",
      "source": [
        "fashion.data.shape"
      ],
      "metadata": {
        "colab": {
          "base_uri": "https://localhost:8080/"
        },
        "id": "45vrr3VUJBmw",
        "outputId": "64519631-918f-4c68-9a7e-261813b2c738"
      },
      "execution_count": 3,
      "outputs": [
        {
          "output_type": "execute_result",
          "data": {
            "text/plain": [
              "(70000, 784)"
            ]
          },
          "metadata": {},
          "execution_count": 3
        }
      ]
    },
    {
      "cell_type": "markdown",
      "source": [
        "Reshaping the image to (70000, 1, 28, 28) => [Dimensions, Channels, Height, Weight]"
      ],
      "metadata": {
        "id": "gGLAi2ztIa0R"
      }
    },
    {
      "cell_type": "code",
      "source": [
        "X = fashion.data.astype(\"float32\").to_numpy()\n",
        "X = X / 255.0\n",
        "X = X.reshape(len(X), 1, 28, 28)\n",
        "\n",
        "y = fashion.target.astype(\"int64\").to_numpy()"
      ],
      "metadata": {
        "id": "fH8sMWN-IWwV"
      },
      "execution_count": 4,
      "outputs": []
    },
    {
      "cell_type": "markdown",
      "source": [
        "Plot an image"
      ],
      "metadata": {
        "id": "Z4eovId0DmVD"
      }
    },
    {
      "cell_type": "code",
      "source": [
        "T-shirt/top, Trouser, Pullover, Dress, Coat, Sandal, Shirt, Sneaker, Bag, Ankle boot"
      ],
      "metadata": {
        "id": "VefaAkeomfcI"
      },
      "execution_count": null,
      "outputs": []
    },
    {
      "cell_type": "code",
      "source": [
        "plt.figure(figsize = (3,3))\n",
        "idx = 1\n",
        "grid_data = fashion.data.iloc[idx].to_numpy().reshape(28,28)\n",
        "print(\"Data : \")\n",
        "class_labels = ['T-shirt/top', 'Trouser', 'Pullover', 'Dress', 'Coat', 'Sandal', 'Shirt', 'Sneaker', 'Bag', 'Ankle boot']\n",
        "plt.imshow(grid_data, cmap='gray')\n",
        "plt.show()\n",
        "\n",
        "print(\"The target label is : \", class_labels[y[idx]])"
      ],
      "metadata": {
        "colab": {
          "base_uri": "https://localhost:8080/",
          "height": 328
        },
        "id": "Jk22oY_fJaF3",
        "outputId": "a91693fb-ccfd-4b12-82df-3e8e72508467"
      },
      "execution_count": 5,
      "outputs": [
        {
          "output_type": "stream",
          "name": "stdout",
          "text": [
            "Data : \n"
          ]
        },
        {
          "output_type": "display_data",
          "data": {
            "text/plain": [
              "<Figure size 300x300 with 1 Axes>"
            ],
            "image/png": "[encoded data removed]"
          },
          "metadata": {}
        },
        {
          "output_type": "stream",
          "name": "stdout",
          "text": [
            "The target label is :  T-shirt/top\n"
          ]
        }
      ]
    },
    {
      "cell_type": "markdown",
      "source": [
        "PyTorch Model"
      ],
      "metadata": {
        "id": "Pp31c9RTJeWW"
      }
    },
    {
      "cell_type": "code",
      "source": [
        "from torch import nn\n",
        "\n",
        "class FashionModel(nn.Module):\n",
        "    def __init__(self):\n",
        "        super().__init__()\n",
        "\n",
        "        self.cnn = nn.Sequential(\n",
        "            nn.Conv2d(1, 32, kernel_size=3, padding = 1),\n",
        "            nn.BatchNorm2d(32),\n",
        "            nn.ReLU(),\n",
        "            nn.MaxPool2d(kernel_size=2, stride=2),\n",
        "            nn.Conv2d(32, 64, kernel_size=3),\n",
        "            nn.BatchNorm2d(64),\n",
        "            nn.ReLU(),\n",
        "            nn.MaxPool2d(2),\n",
        "        )\n",
        "        self.out = nn.Sequential(\n",
        "            nn.Flatten(),\n",
        "            nn.LazyLinear(128),\n",
        "            nn.ReLU(),\n",
        "            nn.Linear(128, 10),\n",
        "            nn.Softmax(dim=-1),\n",
        "        )\n",
        "\n",
        "    def forward(self, X):\n",
        "        X = self.cnn(X)\n",
        "        X = self.out(X)\n",
        "        return X"
      ],
      "metadata": {
        "id": "CKldXVQKJeAz"
      },
      "execution_count": 6,
      "outputs": []
    },
    {
      "cell_type": "markdown",
      "source": [
        "Ensuring that the model is scikit-learn compatible\n",
        "\n"
      ],
      "metadata": {
        "id": "sKLy7fIoJv7H"
      }
    },
    {
      "cell_type": "code",
      "source": [
        "from skorch import NeuralNetClassifier\n",
        "\n",
        "model_skorch = NeuralNetClassifier(FashionModel)"
      ],
      "metadata": {
        "id": "Q7BO5rGIJn47"
      },
      "execution_count": 7,
      "outputs": []
    },
    {
      "cell_type": "code",
      "source": [
        "from sklearn.model_selection import cross_val_predict\n",
        "\n",
        "num_crossval_folds = 5\n",
        "pred_probs = cross_val_predict(\n",
        "    model_skorch,\n",
        "    X,\n",
        "    y,\n",
        "    cv=num_crossval_folds,\n",
        "    method=\"predict_proba\",\n",
        ")"
      ],
      "metadata": {
        "colab": {
          "base_uri": "https://localhost:8080/"
        },
        "id": "9wdO4mwnKkVQ",
        "outputId": "6665d560-6634-4e7b-f6de-ec6f5b4cf6bd"
      },
      "execution_count": 8,
      "outputs": [
        {
          "output_type": "stream",
          "name": "stdout",
          "text": [
            "  epoch    train_loss    valid_acc    valid_loss     dur\n",
            "-------  ------------  -----------  ------------  ------\n",
            "      1        \u001b[36m0.7017\u001b[0m       \u001b[32m0.8416\u001b[0m        \u001b[35m0.4655\u001b[0m  8.7867\n",
            "      2        \u001b[36m0.4214\u001b[0m       \u001b[32m0.8696\u001b[0m        \u001b[35m0.3812\u001b[0m  8.5834\n",
            "      3        \u001b[36m0.3644\u001b[0m       \u001b[32m0.8814\u001b[0m        \u001b[35m0.3444\u001b[0m  8.7294\n",
            "      4        \u001b[36m0.3325\u001b[0m       \u001b[32m0.8862\u001b[0m        \u001b[35m0.3229\u001b[0m  8.4850\n",
            "      5        \u001b[36m0.3101\u001b[0m       \u001b[32m0.8911\u001b[0m        \u001b[35m0.3084\u001b[0m  8.4659\n",
            "      6        \u001b[36m0.2927\u001b[0m       \u001b[32m0.8956\u001b[0m        \u001b[35m0.2976\u001b[0m  8.7397\n",
            "      7        \u001b[36m0.2781\u001b[0m       \u001b[32m0.8982\u001b[0m        \u001b[35m0.2891\u001b[0m  8.6825\n",
            "      8        \u001b[36m0.2657\u001b[0m       \u001b[32m0.8997\u001b[0m        \u001b[35m0.2829\u001b[0m  8.4196\n",
            "      9        \u001b[36m0.2548\u001b[0m       \u001b[32m0.9014\u001b[0m        \u001b[35m0.2769\u001b[0m  8.7670\n",
            "     10        \u001b[36m0.2449\u001b[0m       \u001b[32m0.9021\u001b[0m        \u001b[35m0.2726\u001b[0m  8.6995\n",
            "  epoch    train_loss    valid_acc    valid_loss     dur\n",
            "-------  ------------  -----------  ------------  ------\n",
            "      1        \u001b[36m0.7164\u001b[0m       \u001b[32m0.8382\u001b[0m        \u001b[35m0.4711\u001b[0m  8.2246\n",
            "      2        \u001b[36m0.4284\u001b[0m       \u001b[32m0.8717\u001b[0m        \u001b[35m0.3843\u001b[0m  8.6959\n",
            "      3        \u001b[36m0.3670\u001b[0m       \u001b[32m0.8830\u001b[0m        \u001b[35m0.3460\u001b[0m  8.6825\n",
            "      4        \u001b[36m0.3336\u001b[0m       \u001b[32m0.8896\u001b[0m        \u001b[35m0.3226\u001b[0m  8.2027\n",
            "      5        \u001b[36m0.3108\u001b[0m       \u001b[32m0.8938\u001b[0m        \u001b[35m0.3066\u001b[0m  8.7077\n",
            "      6        \u001b[36m0.2932\u001b[0m       \u001b[32m0.8993\u001b[0m        \u001b[35m0.2948\u001b[0m  8.6607\n",
            "      7        \u001b[36m0.2789\u001b[0m       \u001b[32m0.9021\u001b[0m        \u001b[35m0.2858\u001b[0m  8.2042\n",
            "      8        \u001b[36m0.2666\u001b[0m       \u001b[32m0.9047\u001b[0m        \u001b[35m0.2784\u001b[0m  8.7102\n",
            "      9        \u001b[36m0.2558\u001b[0m       \u001b[32m0.9053\u001b[0m        \u001b[35m0.2735\u001b[0m  8.7685\n",
            "     10        \u001b[36m0.2460\u001b[0m       \u001b[32m0.9066\u001b[0m        \u001b[35m0.2688\u001b[0m  8.1934\n",
            "  epoch    train_loss    valid_acc    valid_loss     dur\n",
            "-------  ------------  -----------  ------------  ------\n",
            "      1        \u001b[36m0.6923\u001b[0m       \u001b[32m0.8454\u001b[0m        \u001b[35m0.4510\u001b[0m  8.5929\n",
            "      2        \u001b[36m0.4174\u001b[0m       \u001b[32m0.8725\u001b[0m        \u001b[35m0.3733\u001b[0m  8.6745\n",
            "      3        \u001b[36m0.3599\u001b[0m       \u001b[32m0.8849\u001b[0m        \u001b[35m0.3368\u001b[0m  8.2223\n",
            "      4        \u001b[36m0.3274\u001b[0m       \u001b[32m0.8921\u001b[0m        \u001b[35m0.3150\u001b[0m  8.7098\n",
            "      5        \u001b[36m0.3050\u001b[0m       \u001b[32m0.8960\u001b[0m        \u001b[35m0.3005\u001b[0m  8.6871\n",
            "      6        \u001b[36m0.2876\u001b[0m       \u001b[32m0.8994\u001b[0m        \u001b[35m0.2894\u001b[0m  8.4703\n",
            "      7        \u001b[36m0.2732\u001b[0m       \u001b[32m0.9023\u001b[0m        \u001b[35m0.2813\u001b[0m  8.4602\n",
            "      8        \u001b[36m0.2609\u001b[0m       \u001b[32m0.9038\u001b[0m        \u001b[35m0.2754\u001b[0m  8.6815\n",
            "      9        \u001b[36m0.2501\u001b[0m       \u001b[32m0.9054\u001b[0m        \u001b[35m0.2711\u001b[0m  8.4995\n",
            "     10        \u001b[36m0.2404\u001b[0m       \u001b[32m0.9069\u001b[0m        \u001b[35m0.2667\u001b[0m  8.4810\n",
            "  epoch    train_loss    valid_acc    valid_loss     dur\n",
            "-------  ------------  -----------  ------------  ------\n",
            "      1        \u001b[36m0.6895\u001b[0m       \u001b[32m0.8463\u001b[0m        \u001b[35m0.4541\u001b[0m  8.7128\n",
            "      2        \u001b[36m0.4176\u001b[0m       \u001b[32m0.8739\u001b[0m        \u001b[35m0.3734\u001b[0m  8.6967\n",
            "      3        \u001b[36m0.3580\u001b[0m       \u001b[32m0.8865\u001b[0m        \u001b[35m0.3362\u001b[0m  8.3027\n",
            "      4        \u001b[36m0.3248\u001b[0m       \u001b[32m0.8938\u001b[0m        \u001b[35m0.3143\u001b[0m  8.7989\n",
            "      5        \u001b[36m0.3017\u001b[0m       \u001b[32m0.8983\u001b[0m        \u001b[35m0.2994\u001b[0m  8.7897\n",
            "      6        \u001b[36m0.2838\u001b[0m       \u001b[32m0.9023\u001b[0m        \u001b[35m0.2879\u001b[0m  8.2756\n",
            "      7        \u001b[36m0.2691\u001b[0m       \u001b[32m0.9049\u001b[0m        \u001b[35m0.2789\u001b[0m  8.8552\n",
            "      8        \u001b[36m0.2565\u001b[0m       \u001b[32m0.9072\u001b[0m        \u001b[35m0.2718\u001b[0m  8.8624\n",
            "      9        \u001b[36m0.2453\u001b[0m       \u001b[32m0.9093\u001b[0m        \u001b[35m0.2672\u001b[0m  8.3038\n",
            "     10        \u001b[36m0.2353\u001b[0m       \u001b[32m0.9098\u001b[0m        \u001b[35m0.2636\u001b[0m  8.7324\n",
            "  epoch    train_loss    valid_acc    valid_loss     dur\n",
            "-------  ------------  -----------  ------------  ------\n",
            "      1        \u001b[36m0.7167\u001b[0m       \u001b[32m0.7913\u001b[0m        \u001b[35m0.5727\u001b[0m  8.7125\n",
            "      2        \u001b[36m0.4293\u001b[0m       \u001b[32m0.8148\u001b[0m        \u001b[35m0.5003\u001b[0m  8.2407\n",
            "      3        \u001b[36m0.3692\u001b[0m       \u001b[32m0.8263\u001b[0m        \u001b[35m0.4719\u001b[0m  8.6246\n",
            "      4        \u001b[36m0.3354\u001b[0m       \u001b[32m0.8363\u001b[0m        \u001b[35m0.4515\u001b[0m  8.6887\n",
            "      5        \u001b[36m0.3122\u001b[0m       \u001b[32m0.8445\u001b[0m        \u001b[35m0.4342\u001b[0m  8.3792\n",
            "      6        \u001b[36m0.2945\u001b[0m       \u001b[32m0.8495\u001b[0m        \u001b[35m0.4205\u001b[0m  8.5113\n",
            "      7        \u001b[36m0.2800\u001b[0m       \u001b[32m0.8555\u001b[0m        \u001b[35m0.4084\u001b[0m  8.7707\n",
            "      8        \u001b[36m0.2677\u001b[0m       \u001b[32m0.8600\u001b[0m        \u001b[35m0.3947\u001b[0m  8.5981\n",
            "      9        \u001b[36m0.2568\u001b[0m       \u001b[32m0.8638\u001b[0m        \u001b[35m0.3844\u001b[0m  8.3181\n",
            "     10        \u001b[36m0.2472\u001b[0m       \u001b[32m0.8679\u001b[0m        \u001b[35m0.3757\u001b[0m  8.7181\n"
          ]
        }
      ]
    },
    {
      "cell_type": "code",
      "source": [
        "from sklearn.metrics import accuracy_score\n",
        "\n",
        "predicted_labels = pred_probs.argmax(axis=1)\n",
        "acc = accuracy_score(y, predicted_labels)\n",
        "print(f\"Cross-validated estimate of accuracy: %.2f%%\"%(acc*100))"
      ],
      "metadata": {
        "colab": {
          "base_uri": "https://localhost:8080/"
        },
        "id": "qvtRwBOcs1zs",
        "outputId": "42222588-e458-4571-d657-08204630545f"
      },
      "execution_count": 22,
      "outputs": [
        {
          "output_type": "stream",
          "name": "stdout",
          "text": [
            "Cross-validated estimate of accuracy: 89.05%\n"
          ]
        }
      ]
    },
    {
      "cell_type": "code",
      "source": [
        "from cleanlab import Datalab\n",
        "\n",
        "data = {\"X\": X, \"label\": y}"
      ],
      "metadata": {
        "id": "Rri0f0RxK3Ws"
      },
      "execution_count": 10,
      "outputs": []
    },
    {
      "cell_type": "code",
      "source": [
        "lab = Datalab(data, label_name=\"label\")\n",
        "lab.find_issues(pred_probs=pred_probs, issue_types={\"label\":{}})"
      ],
      "metadata": {
        "colab": {
          "base_uri": "https://localhost:8080/"
        },
        "id": "bQpGtxUIK8fP",
        "outputId": "37b81759-43be-49f2-9b73-84326b13cdf4"
      },
      "execution_count": 11,
      "outputs": [
        {
          "output_type": "stream",
          "name": "stdout",
          "text": [
            "Finding label issues ...\n",
            "\n",
            "Audit complete. 3255 issues found in the dataset.\n"
          ]
        }
      ]
    },
    {
      "cell_type": "code",
      "source": [
        "issue_results = lab.get_issues(\"label\")\n",
        "issue_true = issue_results[issue_results['is_label_issue'] == True]"
      ],
      "metadata": {
        "id": "X0tkqOecK_0V"
      },
      "execution_count": 12,
      "outputs": []
    },
    {
      "cell_type": "code",
      "source": [
        "issue_true.head()"
      ],
      "metadata": {
        "colab": {
          "base_uri": "https://localhost:8080/",
          "height": 206
        },
        "id": "8na28jzaLBW9",
        "outputId": "5dc3bdcb-be89-4daf-acdb-682d3cad4bcc"
      },
      "execution_count": 36,
      "outputs": [
        {
          "output_type": "execute_result",
          "data": {
            "text/plain": [
              "     is_label_issue  label_score  given_label  predicted_label\n",
              "4              True     0.069643            0                1\n",
              "24             True     0.169320            4                2\n",
              "32             True     0.217312            6                4\n",
              "61             True     0.214355            0                6\n",
              "169            True     0.001096            0                4"
            ],
            "text/html": [
              "\n",
              "  <div id=\"df-b938bffa-2b2c-4e96-87df-418eb1d0fecb\" class=\"colab-df-container\">\n",
              "    <div>\n",
              "<style scoped>\n",
              "    .dataframe tbody tr th:only-of-type {\n",
              "        vertical-align: middle;\n",
              "    }\n",
              "\n",
              "    .dataframe tbody tr th {\n",
              "        vertical-align: top;\n",
              "    }\n",
              "\n",
              "    .dataframe thead th {\n",
              "        text-align: right;\n",
              "    }\n",
              "</style>\n",
              "<table border=\"1\" class=\"dataframe\">\n",
              "  <thead>\n",
              "    <tr style=\"text-align: right;\">\n",
              "      <th></th>\n",
              "      <th>is_label_issue</th>\n",
              "      <th>label_score</th>\n",
              "      <th>given_label</th>\n",
              "      <th>predicted_label</th>\n",
              "    </tr>\n",
              "  </thead>\n",
              "  <tbody>\n",
              "    <tr>\n",
              "      <th>4</th>\n",
              "      <td>True</td>\n",
              "      <td>0.069643</td>\n",
              "      <td>0</td>\n",
              "      <td>1</td>\n",
              "    </tr>\n",
              "    <tr>\n",
              "      <th>24</th>\n",
              "      <td>True</td>\n",
              "      <td>0.169320</td>\n",
              "      <td>4</td>\n",
              "      <td>2</td>\n",
              "    </tr>\n",
              "    <tr>\n",
              "      <th>32</th>\n",
              "      <td>True</td>\n",
              "      <td>0.217312</td>\n",
              "      <td>6</td>\n",
              "      <td>4</td>\n",
              "    </tr>\n",
              "    <tr>\n",
              "      <th>61</th>\n",
              "      <td>True</td>\n",
              "      <td>0.214355</td>\n",
              "      <td>0</td>\n",
              "      <td>6</td>\n",
              "    </tr>\n",
              "    <tr>\n",
              "      <th>169</th>\n",
              "      <td>True</td>\n",
              "      <td>0.001096</td>\n",
              "      <td>0</td>\n",
              "      <td>4</td>\n",
              "    </tr>\n",
              "  </tbody>\n",
              "</table>\n",
              "</div>\n",
              "    <div class=\"colab-df-buttons\">\n",
              "\n",
              "  <div class=\"colab-df-container\">\n",
              "    <button class=\"colab-df-convert\" onclick=\"convertToInteractive('df-b938bffa-2b2c-4e96-87df-418eb1d0fecb')\"\n",
              "            title=\"Convert this dataframe to an interactive table.\"\n",
              "            style=\"display:none;\">\n",
              "\n",
              "  <svg xmlns=\"http://www.w3.org/2000/svg\" height=\"24px\" viewBox=\"0 -960 960 960\">\n",
              "    <path d=\"M120-120v-720h720v720H120Zm60-500h600v-160H180v160Zm220 220h160v-160H400v160Zm0 220h160v-160H400v160ZM180-400h160v-160H180v160Zm440 0h160v-160H620v160ZM180-180h160v-160H180v160Zm440 0h160v-160H620v160Z\"/>\n",
              "  </svg>\n",
              "    </button>\n",
              "\n",
              "  <style>\n",
              "    .colab-df-container {\n",
              "      display:flex;\n",
              "      gap: 12px;\n",
              "    }\n",
              "\n",
              "    .colab-df-convert {\n",
              "      background-color: #E8F0FE;\n",
              "      border: none;\n",
              "      border-radius: 50%;\n",
              "      cursor: pointer;\n",
              "      display: none;\n",
              "      fill: #1967D2;\n",
              "      height: 32px;\n",
              "      padding: 0 0 0 0;\n",
              "      width: 32px;\n",
              "    }\n",
              "\n",
              "    .colab-df-convert:hover {\n",
              "      background-color: #E2EBFA;\n",
              "      box-shadow: 0px 1px 2px rgba(60, 64, 67, 0.3), 0px 1px 3px 1px rgba(60, 64, 67, 0.15);\n",
              "      fill: #174EA6;\n",
              "    }\n",
              "\n",
              "    .colab-df-buttons div {\n",
              "      margin-bottom: 4px;\n",
              "    }\n",
              "\n",
              "    [theme=dark] .colab-df-convert {\n",
              "      background-color: #3B4455;\n",
              "      fill: #D2E3FC;\n",
              "    }\n",
              "\n",
              "    [theme=dark] .colab-df-convert:hover {\n",
              "      background-color: #434B5C;\n",
              "      box-shadow: 0px 1px 3px 1px rgba(0, 0, 0, 0.15);\n",
              "      filter: drop-shadow(0px 1px 2px rgba(0, 0, 0, 0.3));\n",
              "      fill: #FFFFFF;\n",
              "    }\n",
              "  </style>\n",
              "\n",
              "    <script>\n",
              "      const buttonEl =\n",
              "        document.querySelector('#df-b938bffa-2b2c-4e96-87df-418eb1d0fecb button.colab-df-convert');\n",
              "      buttonEl.style.display =\n",
              "        google.colab.kernel.accessAllowed ? 'block' : 'none';\n",
              "\n",
              "      async function convertToInteractive(key) {\n",
              "        const element = document.querySelector('#df-b938bffa-2b2c-4e96-87df-418eb1d0fecb');\n",
              "        const dataTable =\n",
              "          await google.colab.kernel.invokeFunction('convertToInteractive',\n",
              "                                                    [key], {});\n",
              "        if (!dataTable) return;\n",
              "\n",
              "        const docLinkHtml = 'Like what you see? Visit the ' +\n",
              "          '<a target=\"_blank\" href=https://colab.research.google.com/notebooks/data_table.ipynb>data table notebook</a>'\n",
              "          + ' to learn more about interactive tables.';\n",
              "        element.innerHTML = '';\n",
              "        dataTable['output_type'] = 'display_data';\n",
              "        await google.colab.output.renderOutput(dataTable, element);\n",
              "        const docLink = document.createElement('div');\n",
              "        docLink.innerHTML = docLinkHtml;\n",
              "        element.appendChild(docLink);\n",
              "      }\n",
              "    </script>\n",
              "  </div>\n",
              "\n",
              "\n",
              "<div id=\"df-9350b1e5-7bf0-44d6-b871-ad74bebafa56\">\n",
              "  <button class=\"colab-df-quickchart\" onclick=\"quickchart('df-9350b1e5-7bf0-44d6-b871-ad74bebafa56')\"\n",
              "            title=\"Suggest charts.\"\n",
              "            style=\"display:none;\">\n",
              "\n",
              "<svg xmlns=\"http://www.w3.org/2000/svg\" height=\"24px\"viewBox=\"0 0 24 24\"\n",
              "     width=\"24px\">\n",
              "    <g>\n",
              "        <path d=\"M19 3H5c-1.1 0-2 .9-2 2v14c0 1.1.9 2 2 2h14c1.1 0 2-.9 2-2V5c0-1.1-.9-2-2-2zM9 17H7v-7h2v7zm4 0h-2V7h2v10zm4 0h-2v-4h2v4z\"/>\n",
              "    </g>\n",
              "</svg>\n",
              "  </button>\n",
              "\n",
              "<style>\n",
              "  .colab-df-quickchart {\n",
              "    background-color: #E8F0FE;\n",
              "    border: none;\n",
              "    border-radius: 50%;\n",
              "    cursor: pointer;\n",
              "    display: none;\n",
              "    fill: #1967D2;\n",
              "    height: 32px;\n",
              "    padding: 0 0 0 0;\n",
              "    width: 32px;\n",
              "  }\n",
              "\n",
              "  .colab-df-quickchart:hover {\n",
              "    background-color: #E2EBFA;\n",
              "    box-shadow: 0px 1px 2px rgba(60, 64, 67, 0.3), 0px 1px 3px 1px rgba(60, 64, 67, 0.15);\n",
              "    fill: #174EA6;\n",
              "  }\n",
              "\n",
              "  [theme=dark] .colab-df-quickchart {\n",
              "    background-color: #3B4455;\n",
              "    fill: #D2E3FC;\n",
              "  }\n",
              "\n",
              "  [theme=dark] .colab-df-quickchart:hover {\n",
              "    background-color: #434B5C;\n",
              "    box-shadow: 0px 1px 3px 1px rgba(0, 0, 0, 0.15);\n",
              "    filter: drop-shadow(0px 1px 2px rgba(0, 0, 0, 0.3));\n",
              "    fill: #FFFFFF;\n",
              "  }\n",
              "</style>\n",
              "\n",
              "  <script>\n",
              "    async function quickchart(key) {\n",
              "      const charts = await google.colab.kernel.invokeFunction(\n",
              "          'suggestCharts', [key], {});\n",
              "    }\n",
              "    (() => {\n",
              "      let quickchartButtonEl =\n",
              "        document.querySelector('#df-9350b1e5-7bf0-44d6-b871-ad74bebafa56 button');\n",
              "      quickchartButtonEl.style.display =\n",
              "        google.colab.kernel.accessAllowed ? 'block' : 'none';\n",
              "    })();\n",
              "  </script>\n",
              "</div>\n",
              "    </div>\n",
              "  </div>\n"
            ]
          },
          "metadata": {},
          "execution_count": 36
        }
      ]
    },
    {
      "cell_type": "markdown",
      "source": [
        "**Changing the labels**"
      ],
      "metadata": {
        "id": "UPIfXD55V38h"
      }
    },
    {
      "cell_type": "code",
      "source": [
        "for i in issue_true.index:\n",
        "  y[i] = issue_true[issue_true.index == i]['predicted_label']"
      ],
      "metadata": {
        "id": "pHHuvOOA6qx7"
      },
      "execution_count": 19,
      "outputs": []
    },
    {
      "cell_type": "code",
      "source": [
        "classes = 9\n",
        "locations = []\n",
        "for i in range(0, len(issue_true)):\n",
        "  loc = issue_true.iloc[i].predicted_label\n",
        "  if(loc == classes):\n",
        "    locations.append(issue_true.index[i])\n",
        "\n",
        "locations = locations[0:10]\n",
        "\n",
        "print(\"Label IDs : \", locations)\n",
        "print(\"No. of wrong labels : \", len(locations))\n",
        "rows = math.ceil(len(locations)/4)\n",
        "\n",
        "if(rows>1):\n",
        "  count = 0\n",
        "  fig, axs = plt.subplots(nrows = rows, ncols = 4, figsize=(10, 15))\n",
        "  for r in range(rows):\n",
        "    for c in range(4):\n",
        "      if(count<len(locations)):\n",
        "        l = locations[count]\n",
        "        axs[r][c].imshow(X[l].reshape(28, 28), cmap = 'gray')\n",
        "        axs[r][c].set_title(\"Given Label: \"+ str(issue_results.iloc[l].given_label)+\"\\nPredicted Label: \"+str(issue_results.iloc[l].predicted_label)+\"\\nIndex: \"+str(l), fontsize='medium')\n",
        "        count += 1\n",
        "      else:\n",
        "        fig.delaxes(axs[r][c])\n",
        "  plt.tight_layout()\n",
        "else:\n",
        "  count = 0\n",
        "  fig, axs = plt.subplots(nrows = 1, ncols = 4, figsize=(10, 15))\n",
        "  for i in range(4):\n",
        "    if(count < len(locations)):\n",
        "      l = locations[count]\n",
        "      axs[i].imshow(X[l].reshape(28, 28), cmap = 'gray')\n",
        "      axs[i].set_title(\"Given Label: \"+ str(issue_results.iloc[l].given_label)+\"\\nPredicted Label: \"+str(issue_results.iloc[l].predicted_label)+\"\\nIndex: \"+str(l), fontsize='medium')\n",
        "      count += 1\n",
        "    else:\n",
        "      fig.delaxes(axs[i])\n"
      ],
      "metadata": {
        "colab": {
          "base_uri": "https://localhost:8080/",
          "height": 1000
        },
        "id": "1N0AXC-iQCVg",
        "outputId": "9297ac3f-8b10-4745-f083-6d4770fb1181"
      },
      "execution_count": 24,
      "outputs": [
        {
          "output_type": "stream",
          "name": "stdout",
          "text": [
            "Label IDs :  [1106, 2477, 2869, 3337, 4143, 5385, 6510, 9404, 10209, 13624]\n",
            "No. of wrong labels :  10\n"
          ]
        },
        {
          "output_type": "display_data",
          "data": {
            "text/plain": [
              "<Figure size 1000x1500 with 10 Axes>"
            ],
            "image/png": "[encoded data removed]"
          },
          "metadata": {}
        }
      ]
    },
    {
      "cell_type": "markdown",
      "source": [
        "Training the model again"
      ],
      "metadata": {
        "id": "nrxKfOqlsVyT"
      }
    },
    {
      "cell_type": "code",
      "source": [
        "num_crossval_folds = 5  # for efficiency; values like 5 or 10 will generally work better\n",
        "pred_probs = cross_val_predict(\n",
        "    model_skorch,\n",
        "    X,\n",
        "    y,\n",
        "    cv=num_crossval_folds,\n",
        "    method=\"predict_proba\",\n",
        ")"
      ],
      "metadata": {
        "colab": {
          "base_uri": "https://localhost:8080/"
        },
        "id": "UfiAiw1TsUwX",
        "outputId": "d1c6256e-6940-438a-a125-e7da5da968e5"
      },
      "execution_count": 21,
      "outputs": [
        {
          "output_type": "stream",
          "name": "stdout",
          "text": [
            "  epoch    train_loss    valid_acc    valid_loss     dur\n",
            "-------  ------------  -----------  ------------  ------\n",
            "      1        \u001b[36m0.6505\u001b[0m       \u001b[32m0.8487\u001b[0m        \u001b[35m0.4285\u001b[0m  9.0613\n",
            "      2        \u001b[36m0.3474\u001b[0m       \u001b[32m0.8745\u001b[0m        \u001b[35m0.3492\u001b[0m  9.3388\n",
            "      3        \u001b[36m0.2817\u001b[0m       \u001b[32m0.8840\u001b[0m        \u001b[35m0.3155\u001b[0m  8.6356\n",
            "      4        \u001b[36m0.2453\u001b[0m       \u001b[32m0.8912\u001b[0m        \u001b[35m0.2996\u001b[0m  9.0304\n",
            "      5        \u001b[36m0.2212\u001b[0m       \u001b[32m0.8973\u001b[0m        \u001b[35m0.2856\u001b[0m  9.0697\n",
            "      6        \u001b[36m0.2035\u001b[0m       \u001b[32m0.9009\u001b[0m        \u001b[35m0.2776\u001b[0m  8.9218\n",
            "      7        \u001b[36m0.1894\u001b[0m       \u001b[32m0.9048\u001b[0m        \u001b[35m0.2685\u001b[0m  8.5528\n",
            "      8        \u001b[36m0.1775\u001b[0m       \u001b[32m0.9054\u001b[0m        \u001b[35m0.2644\u001b[0m  8.9696\n",
            "      9        \u001b[36m0.1674\u001b[0m       \u001b[32m0.9085\u001b[0m        \u001b[35m0.2604\u001b[0m  8.9165\n",
            "     10        \u001b[36m0.1585\u001b[0m       \u001b[32m0.9101\u001b[0m        \u001b[35m0.2569\u001b[0m  8.5135\n",
            "  epoch    train_loss    valid_acc    valid_loss     dur\n",
            "-------  ------------  -----------  ------------  ------\n",
            "      1        \u001b[36m0.6580\u001b[0m       \u001b[32m0.8479\u001b[0m        \u001b[35m0.4253\u001b[0m  8.6842\n",
            "      2        \u001b[36m0.3530\u001b[0m       \u001b[32m0.8772\u001b[0m        \u001b[35m0.3370\u001b[0m  8.9820\n",
            "      3        \u001b[36m0.2847\u001b[0m       \u001b[32m0.8906\u001b[0m        \u001b[35m0.2994\u001b[0m  8.8799\n",
            "      4        \u001b[36m0.2472\u001b[0m       \u001b[32m0.8966\u001b[0m        \u001b[35m0.2799\u001b[0m  8.4999\n",
            "      5        \u001b[36m0.2225\u001b[0m       \u001b[32m0.9033\u001b[0m        \u001b[35m0.2677\u001b[0m  8.9215\n",
            "      6        \u001b[36m0.2045\u001b[0m       \u001b[32m0.9071\u001b[0m        \u001b[35m0.2584\u001b[0m  8.9974\n",
            "      7        \u001b[36m0.1905\u001b[0m       \u001b[32m0.9095\u001b[0m        \u001b[35m0.2533\u001b[0m  8.5183\n",
            "      8        \u001b[36m0.1790\u001b[0m       \u001b[32m0.9120\u001b[0m        \u001b[35m0.2500\u001b[0m  8.9041\n",
            "      9        \u001b[36m0.1693\u001b[0m       \u001b[32m0.9128\u001b[0m        \u001b[35m0.2477\u001b[0m  8.9543\n",
            "     10        \u001b[36m0.1609\u001b[0m       \u001b[32m0.9134\u001b[0m        \u001b[35m0.2468\u001b[0m  8.5679\n",
            "  epoch    train_loss    valid_acc    valid_loss     dur\n",
            "-------  ------------  -----------  ------------  ------\n",
            "      1        \u001b[36m0.6332\u001b[0m       \u001b[32m0.8537\u001b[0m        \u001b[35m0.4158\u001b[0m  8.3964\n",
            "      2        \u001b[36m0.3364\u001b[0m       \u001b[32m0.8795\u001b[0m        \u001b[35m0.3358\u001b[0m  8.7524\n",
            "      3        \u001b[36m0.2740\u001b[0m       \u001b[32m0.8890\u001b[0m        \u001b[35m0.3041\u001b[0m  8.8431\n",
            "      4        \u001b[36m0.2398\u001b[0m       \u001b[32m0.8982\u001b[0m        \u001b[35m0.2846\u001b[0m  8.3845\n",
            "      5        \u001b[36m0.2170\u001b[0m       \u001b[32m0.9021\u001b[0m        \u001b[35m0.2713\u001b[0m  8.7191\n",
            "      6        \u001b[36m0.2001\u001b[0m       \u001b[32m0.9054\u001b[0m        \u001b[35m0.2629\u001b[0m  8.7425\n",
            "      7        \u001b[36m0.1865\u001b[0m       \u001b[32m0.9107\u001b[0m        \u001b[35m0.2528\u001b[0m  8.3409\n",
            "      8        \u001b[36m0.1753\u001b[0m       \u001b[32m0.9127\u001b[0m        \u001b[35m0.2469\u001b[0m  8.7870\n",
            "      9        \u001b[36m0.1657\u001b[0m       \u001b[32m0.9139\u001b[0m        \u001b[35m0.2424\u001b[0m  8.7362\n",
            "     10        \u001b[36m0.1571\u001b[0m       \u001b[32m0.9153\u001b[0m        \u001b[35m0.2371\u001b[0m  8.3616\n",
            "  epoch    train_loss    valid_acc    valid_loss     dur\n",
            "-------  ------------  -----------  ------------  ------\n",
            "      1        \u001b[36m0.6192\u001b[0m       \u001b[32m0.8498\u001b[0m        \u001b[35m0.4197\u001b[0m  8.9373\n",
            "      2        \u001b[36m0.3366\u001b[0m       \u001b[32m0.8796\u001b[0m        \u001b[35m0.3395\u001b[0m  8.9130\n",
            "      3        \u001b[36m0.2751\u001b[0m       \u001b[32m0.8896\u001b[0m        \u001b[35m0.3062\u001b[0m  8.4674\n",
            "      4        \u001b[36m0.2405\u001b[0m       \u001b[32m0.8963\u001b[0m        \u001b[35m0.2863\u001b[0m  8.8861\n",
            "      5        \u001b[36m0.2169\u001b[0m       \u001b[32m0.9008\u001b[0m        \u001b[35m0.2737\u001b[0m  8.9371\n",
            "      6        \u001b[36m0.1994\u001b[0m       \u001b[32m0.9038\u001b[0m        \u001b[35m0.2648\u001b[0m  8.6252\n",
            "      7        \u001b[36m0.1855\u001b[0m       \u001b[32m0.9068\u001b[0m        \u001b[35m0.2570\u001b[0m  8.7270\n",
            "      8        \u001b[36m0.1741\u001b[0m       \u001b[32m0.9092\u001b[0m        \u001b[35m0.2521\u001b[0m  8.9408\n",
            "      9        \u001b[36m0.1644\u001b[0m       \u001b[32m0.9103\u001b[0m        \u001b[35m0.2499\u001b[0m  8.7759\n",
            "     10        \u001b[36m0.1557\u001b[0m       \u001b[32m0.9116\u001b[0m        \u001b[35m0.2455\u001b[0m  8.6735\n",
            "  epoch    train_loss    valid_acc    valid_loss     dur\n",
            "-------  ------------  -----------  ------------  ------\n",
            "      1        \u001b[36m0.6460\u001b[0m       \u001b[32m0.7033\u001b[0m        \u001b[35m1.1936\u001b[0m  8.7680\n",
            "      2        \u001b[36m0.3385\u001b[0m       \u001b[32m0.7453\u001b[0m        \u001b[35m0.9902\u001b[0m  8.7889\n",
            "      3        \u001b[36m0.2719\u001b[0m       \u001b[32m0.7657\u001b[0m        \u001b[35m0.8931\u001b[0m  8.4591\n",
            "      4        \u001b[36m0.2369\u001b[0m       \u001b[32m0.7756\u001b[0m        \u001b[35m0.8372\u001b[0m  8.8134\n",
            "      5        \u001b[36m0.2136\u001b[0m       \u001b[32m0.7862\u001b[0m        \u001b[35m0.8005\u001b[0m  8.9367\n",
            "      6        \u001b[36m0.1963\u001b[0m       \u001b[32m0.7935\u001b[0m        \u001b[35m0.7752\u001b[0m  8.5403\n",
            "      7        \u001b[36m0.1825\u001b[0m       \u001b[32m0.7996\u001b[0m        \u001b[35m0.7559\u001b[0m  8.6697\n",
            "      8        \u001b[36m0.1711\u001b[0m       \u001b[32m0.8032\u001b[0m        \u001b[35m0.7431\u001b[0m  8.8314\n",
            "      9        \u001b[36m0.1614\u001b[0m       \u001b[32m0.8082\u001b[0m        \u001b[35m0.7315\u001b[0m  8.5196\n",
            "     10        \u001b[36m0.1529\u001b[0m       \u001b[32m0.8121\u001b[0m        \u001b[35m0.7234\u001b[0m  8.5296\n"
          ]
        }
      ]
    },
    {
      "cell_type": "code",
      "source": [
        "from sklearn.metrics import accuracy_score\n",
        "\n",
        "predicted_labels = pred_probs.argmax(axis=1)\n",
        "acc = accuracy_score(y, predicted_labels)\n",
        "print(f\"Cross-validated estimate of accuracy: %.2f%%\"%(acc*100))"
      ],
      "metadata": {
        "colab": {
          "base_uri": "https://localhost:8080/"
        },
        "id": "NalKE6dDKpjU",
        "outputId": "e554c6fe-7117-4043-b3b5-d2653bf0f880"
      },
      "execution_count": 9,
      "outputs": [
        {
          "output_type": "stream",
          "name": "stdout",
          "text": [
            "Cross-validated estimate of accuracy: 89.53%\n"
          ]
        }
      ]
    },
    {
      "cell_type": "markdown",
      "source": [
        "**Security-related issue**"
      ],
      "metadata": {
        "id": "9aTHVzAkFwQx"
      }
    },
    {
      "cell_type": "markdown",
      "source": [
        "Delibrately changing some labels"
      ],
      "metadata": {
        "id": "55TPHW-5Fz7L"
      }
    },
    {
      "cell_type": "code",
      "source": [
        "y[[480, 650, 547, 222, 346, 388, 979, 675, 789, 1111, 1323]] = 0\n",
        "y[[943, 545, 723, 1444, 1832]] = 1\n",
        "y[[1943, 3333, 221, 101]] = 5"
      ],
      "metadata": {
        "id": "-cSvYCPT47ai"
      },
      "execution_count": 25,
      "outputs": []
    },
    {
      "cell_type": "code",
      "source": [
        "data = {\"X\": X, \"label\": y}"
      ],
      "metadata": {
        "id": "nvuqV89B47Fc"
      },
      "execution_count": 26,
      "outputs": []
    },
    {
      "cell_type": "code",
      "source": [
        "lab = Datalab(data, label_name=\"label\")\n",
        "lab.find_issues(pred_probs=pred_probs, issue_types={\"label\":{}})"
      ],
      "metadata": {
        "colab": {
          "base_uri": "https://localhost:8080/"
        },
        "id": "c7TiOr5o5cLY",
        "outputId": "b0cf37b1-f496-41e5-ce1a-6bf8b486247f"
      },
      "execution_count": 27,
      "outputs": [
        {
          "output_type": "stream",
          "name": "stdout",
          "text": [
            "Finding label issues ...\n",
            "\n",
            "Audit complete. 3082 issues found in the dataset.\n"
          ]
        }
      ]
    },
    {
      "cell_type": "code",
      "source": [
        "issue_results = lab.get_issues(\"label\")\n",
        "issue_true = issue_results[issue_results['is_label_issue'] == True]"
      ],
      "metadata": {
        "id": "bn0LgZ9c5fMd"
      },
      "execution_count": 28,
      "outputs": []
    },
    {
      "cell_type": "code",
      "source": [
        "classes = 5\n",
        "locations = []\n",
        "for i in range(0, len(issue_true)):\n",
        "  loc = issue_true.iloc[i].given_label\n",
        "  if(loc == classes):\n",
        "    locations.append(issue_true.index[i])\n",
        "\n",
        "print(\"Label IDs : \", locations)\n",
        "print(\"No. of wrong labels : \", len(locations))\n",
        "rows = math.ceil(len(locations)/4)\n",
        "\n",
        "if(rows>1):\n",
        "  count = 0\n",
        "  fig, axs = plt.subplots(nrows = rows, ncols = 4, figsize=(10, 15))\n",
        "  for r in range(rows):\n",
        "    for c in range(4):\n",
        "      if(count<len(locations)):\n",
        "        l = locations[count]\n",
        "        axs[r][c].imshow(X[l].reshape(28, 28), cmap = 'gray')\n",
        "        axs[r][c].set_title(\"Given Label: \"+ str(issue_results.iloc[l].given_label)+\"\\nPredicted Label: \"+str(issue_results.iloc[l].predicted_label)+\"\\nIndex: \"+str(l), fontsize='medium')\n",
        "        count += 1\n",
        "      else:\n",
        "        fig.delaxes(axs[r][c])\n",
        "  plt.tight_layout()\n",
        "else:\n",
        "  count = 0\n",
        "  fig, axs = plt.subplots(nrows = 1, ncols = 4, figsize=(10, 15))\n",
        "  for i in range(4):\n",
        "    if(count < len(locations)):\n",
        "      l = locations[count]\n",
        "      axs[i].imshow(X[l].reshape(28, 28), cmap = 'gray')\n",
        "      axs[i].set_title(\"Given Label: \"+ str(issue_results.iloc[l].given_label)+\"\\nPredicted Label: \"+str(issue_results.iloc[l].predicted_label)+\"\\nIndex: \"+str(l), fontsize='medium')\n",
        "      count += 1\n",
        "    else:\n",
        "      fig.delaxes(axs[i])\n"
      ],
      "metadata": {
        "colab": {
          "base_uri": "https://localhost:8080/",
          "height": 1000
        },
        "id": "slwNyFyM5pE9",
        "outputId": "c36cf838-b66d-40b2-8804-40efbecbe91e"
      },
      "execution_count": 29,
      "outputs": [
        {
          "output_type": "stream",
          "name": "stdout",
          "text": [
            "Label IDs :  [221, 1943, 3333, 15392, 19928, 22504, 26270, 26790, 27550, 30151, 34959, 39262, 39872, 40628, 41163, 44779, 46360, 51747, 53488, 60722, 64405, 68532]\n",
            "No. of wrong labels :  22\n"
          ]
        },
        {
          "output_type": "display_data",
          "data": {
            "text/plain": [
              "<Figure size 1000x1500 with 22 Axes>"
            ],
            "image/png": "[encoded data removed]"
          },
          "metadata": {}
        }
      ]
    },
    {
      "cell_type": "code",
      "source": [
        "test_data"
      ],
      "metadata": {
        "colab": {
          "base_uri": "https://localhost:8080/"
        },
        "id": "I814QQQHSLji",
        "outputId": "be69c418-2d75-4a96-e306-8c66de15c385"
      },
      "execution_count": 72,
      "outputs": [
        {
          "output_type": "execute_result",
          "data": {
            "text/plain": [
              "Dataset MNIST\n",
              "    Number of datapoints: 10000\n",
              "    Root location: data\n",
              "    Split: Test\n",
              "    StandardTransform\n",
              "Transform: ToTensor()"
            ]
          },
          "metadata": {},
          "execution_count": 72
        }
      ]
    },
    {
      "cell_type": "code",
      "source": [],
      "metadata": {
        "id": "GiNQ5TbtYMUj"
      },
      "execution_count": 47,
      "outputs": []
    },
    {
      "cell_type": "code",
      "source": [
        "import numpy as np\n"
      ],
      "metadata": {
        "id": "uZCrRvl2XT-g"
      },
      "execution_count": 49,
      "outputs": []
    },
    {
      "cell_type": "code",
      "source": [
        "plt.figure(figsize = (3,3))\n",
        "idx = 500\n",
        "grid_data = training_data[idx]\n",
        "print(\"Data : \")\n",
        "plt.imshow(training_data[idx][0].squeeze(),cmap='gray')\n",
        "plt.show()\n",
        "print(\"The target label is : \", training_data[idx][1])"
      ],
      "metadata": {
        "colab": {
          "base_uri": "https://localhost:8080/",
          "height": 328
        },
        "id": "4cAXx4e2Wcub",
        "outputId": "9414b8df-030f-4964-e925-0eb7e92d7859"
      },
      "execution_count": 74,
      "outputs": [
        {
          "output_type": "stream",
          "name": "stdout",
          "text": [
            "Data : \n"
          ]
        },
        {
          "output_type": "display_data",
          "data": {
            "text/plain": [
              "<Figure size 300x300 with 1 Axes>"
            ],
            "image/png": "[encoded data removed]"
          },
          "metadata": {}
        },
        {
          "output_type": "stream",
          "name": "stdout",
          "text": [
            "The target label is :  3\n"
          ]
        }
      ]
    },
    {
      "cell_type": "code",
      "source": [
        "from torch import nn\n",
        "\n",
        "class ClassifierModule(nn.Module):\n",
        "    def __init__(self):\n",
        "        super().__init__()\n",
        "\n",
        "        self.cnn = nn.Sequential(\n",
        "            nn.Conv2d(1, 6, 3),\n",
        "            nn.ReLU(),\n",
        "            nn.BatchNorm2d(6),\n",
        "            nn.MaxPool2d(kernel_size=2, stride=2),\n",
        "            nn.Conv2d(6, 16, 3),\n",
        "            nn.ReLU(),\n",
        "            nn.BatchNorm2d(16),\n",
        "            nn.MaxPool2d(kernel_size=2, stride=2),\n",
        "        )\n",
        "        self.out = nn.Sequential(\n",
        "            nn.Flatten(),\n",
        "            nn.LazyLinear(128),\n",
        "            nn.ReLU(),\n",
        "            nn.Linear(128, 10),\n",
        "            nn.Softmax(dim=-1),\n",
        "        )\n",
        "\n",
        "    def forward(self, X):\n",
        "        X = self.cnn(X)\n",
        "        X = self.out(X)\n",
        "        return X"
      ],
      "metadata": {
        "id": "X9UF_n2uZMJJ"
      },
      "execution_count": 75,
      "outputs": []
    },
    {
      "cell_type": "code",
      "source": [
        "!pip install skorch"
      ],
      "metadata": {
        "colab": {
          "base_uri": "https://localhost:8080/"
        },
        "id": "GWTwa1t_ZUyv",
        "outputId": "79ab294a-2a4b-4763-8093-aa40c917af79"
      },
      "execution_count": 76,
      "outputs": [
        {
          "output_type": "stream",
          "name": "stdout",
          "text": [
            "Requirement already satisfied: skorch in /usr/local/lib/python3.10/dist-packages (0.14.0)\n",
            "Requirement already satisfied: numpy>=1.13.3 in /usr/local/lib/python3.10/dist-packages (from skorch) (1.23.5)\n",
            "Requirement already satisfied: scikit-learn>=0.22.0 in /usr/local/lib/python3.10/dist-packages (from skorch) (1.2.2)\n",
            "Requirement already satisfied: scipy>=1.1.0 in /usr/local/lib/python3.10/dist-packages (from skorch) (1.10.1)\n",
            "Requirement already satisfied: tabulate>=0.7.7 in /usr/local/lib/python3.10/dist-packages (from skorch) (0.9.0)\n",
            "Requirement already satisfied: tqdm>=4.14.0 in /usr/local/lib/python3.10/dist-packages (from skorch) (4.65.0)\n",
            "Requirement already satisfied: joblib>=1.1.1 in /usr/local/lib/python3.10/dist-packages (from scikit-learn>=0.22.0->skorch) (1.3.1)\n",
            "Requirement already satisfied: threadpoolctl>=2.0.0 in /usr/local/lib/python3.10/dist-packages (from scikit-learn>=0.22.0->skorch) (3.2.0)\n"
          ]
        }
      ]
    },
    {
      "cell_type": "code",
      "source": [
        "from skorch import NeuralNetClassifier\n",
        "\n",
        "model_skorch = NeuralNetClassifier(ClassifierModule)"
      ],
      "metadata": {
        "id": "VNSPzq9pZQVE"
      },
      "execution_count": 77,
      "outputs": []
    },
    {
      "cell_type": "code",
      "source": [
        "import numpy as np"
      ],
      "metadata": {
        "id": "IVYKZ5-9cxeW"
      },
      "execution_count": 61,
      "outputs": []
    },
    {
      "cell_type": "code",
      "source": [
        "data = []\n",
        "labels = []\n",
        "\n",
        "for image, label in training_data:\n",
        "    data.append(image.numpy())\n",
        "    labels.append(label)\n",
        "X_train = np.array(data)\n",
        "y_train = np.array(labels)"
      ],
      "metadata": {
        "id": "8a9BEfFAZl2f"
      },
      "execution_count": 80,
      "outputs": []
    },
    {
      "cell_type": "code",
      "source": [
        "data = []\n",
        "labels = []\n",
        "\n",
        "for image, label in test_data:\n",
        "    data.append(image.numpy())\n",
        "    labels.append(label)\n",
        "X_test = np.array(data)\n",
        "y_test = np.array(labels)"
      ],
      "metadata": {
        "id": "4NGLC1BvdhdV"
      },
      "execution_count": 88,
      "outputs": []
    },
    {
      "cell_type": "code",
      "source": [
        "from sklearn.model_selection import cross_val_predict\n",
        "\n",
        "num_crossval_folds = 3  # for efficiency; values like 5 or 10 will generally work better\n",
        "pred_probs = cross_val_predict(\n",
        "    model_skorch,\n",
        "    X_train,\n",
        "    y_train,\n",
        "    cv=num_crossval_folds,\n",
        "    method=\"predict_proba\",\n",
        ")"
      ],
      "metadata": {
        "colab": {
          "base_uri": "https://localhost:8080/"
        },
        "id": "awEQCWTOZSPl",
        "outputId": "8532c5b1-002e-4ac7-9ef1-6c2661e77c51"
      },
      "execution_count": 82,
      "outputs": [
        {
          "output_type": "stream",
          "name": "stderr",
          "text": [
            "/usr/local/lib/python3.10/dist-packages/torch/nn/modules/lazy.py:180: UserWarning: Lazy modules are a new feature under heavy development so changes to the API or functionality can happen at any moment.\n",
            "  warnings.warn('Lazy modules are a new feature under heavy development '\n"
          ]
        },
        {
          "output_type": "stream",
          "name": "stdout",
          "text": [
            "  epoch    train_loss    valid_acc    valid_loss     dur\n",
            "-------  ------------  -----------  ------------  ------\n",
            "      1        \u001b[36m0.8396\u001b[0m       \u001b[32m0.9227\u001b[0m        \u001b[35m0.3117\u001b[0m  4.5989\n",
            "      2        \u001b[36m0.2332\u001b[0m       \u001b[32m0.9466\u001b[0m        \u001b[35m0.1924\u001b[0m  5.4982\n",
            "      3        \u001b[36m0.1634\u001b[0m       \u001b[32m0.9576\u001b[0m        \u001b[35m0.1518\u001b[0m  4.1886\n",
            "      4        \u001b[36m0.1316\u001b[0m       \u001b[32m0.9621\u001b[0m        \u001b[35m0.1293\u001b[0m  4.1631\n",
            "      5        \u001b[36m0.1120\u001b[0m       \u001b[32m0.9663\u001b[0m        \u001b[35m0.1145\u001b[0m  4.6894\n",
            "      6        \u001b[36m0.0984\u001b[0m       \u001b[32m0.9680\u001b[0m        \u001b[35m0.1037\u001b[0m  4.0721\n",
            "      7        \u001b[36m0.0881\u001b[0m       \u001b[32m0.9695\u001b[0m        \u001b[35m0.0955\u001b[0m  4.0612\n",
            "      8        \u001b[36m0.0800\u001b[0m       \u001b[32m0.9718\u001b[0m        \u001b[35m0.0890\u001b[0m  4.5768\n",
            "      9        \u001b[36m0.0735\u001b[0m       \u001b[32m0.9740\u001b[0m        \u001b[35m0.0837\u001b[0m  4.0937\n",
            "     10        \u001b[36m0.0681\u001b[0m       \u001b[32m0.9752\u001b[0m        \u001b[35m0.0794\u001b[0m  4.4577\n"
          ]
        },
        {
          "output_type": "stream",
          "name": "stderr",
          "text": [
            "/usr/local/lib/python3.10/dist-packages/torch/nn/modules/lazy.py:180: UserWarning: Lazy modules are a new feature under heavy development so changes to the API or functionality can happen at any moment.\n",
            "  warnings.warn('Lazy modules are a new feature under heavy development '\n"
          ]
        },
        {
          "output_type": "stream",
          "name": "stdout",
          "text": [
            "  epoch    train_loss    valid_acc    valid_loss     dur\n",
            "-------  ------------  -----------  ------------  ------\n",
            "      1        \u001b[36m0.8353\u001b[0m       \u001b[32m0.9260\u001b[0m        \u001b[35m0.3155\u001b[0m  4.0598\n",
            "      2        \u001b[36m0.2526\u001b[0m       \u001b[32m0.9471\u001b[0m        \u001b[35m0.1994\u001b[0m  4.6866\n",
            "      3        \u001b[36m0.1786\u001b[0m       \u001b[32m0.9556\u001b[0m        \u001b[35m0.1561\u001b[0m  4.9014\n",
            "      4        \u001b[36m0.1431\u001b[0m       \u001b[32m0.9627\u001b[0m        \u001b[35m0.1333\u001b[0m  4.0560\n",
            "      5        \u001b[36m0.1214\u001b[0m       \u001b[32m0.9655\u001b[0m        \u001b[35m0.1194\u001b[0m  4.5006\n",
            "      6        \u001b[36m0.1064\u001b[0m       \u001b[32m0.9686\u001b[0m        \u001b[35m0.1091\u001b[0m  4.4301\n",
            "      7        \u001b[36m0.0952\u001b[0m       \u001b[32m0.9696\u001b[0m        \u001b[35m0.1016\u001b[0m  4.6336\n",
            "      8        \u001b[36m0.0865\u001b[0m       \u001b[32m0.9706\u001b[0m        \u001b[35m0.0959\u001b[0m  4.6868\n",
            "      9        \u001b[36m0.0795\u001b[0m       \u001b[32m0.9715\u001b[0m        \u001b[35m0.0912\u001b[0m  4.4276\n",
            "     10        \u001b[36m0.0736\u001b[0m       \u001b[32m0.9721\u001b[0m        \u001b[35m0.0875\u001b[0m  5.1763\n"
          ]
        },
        {
          "output_type": "stream",
          "name": "stderr",
          "text": [
            "/usr/local/lib/python3.10/dist-packages/torch/nn/modules/lazy.py:180: UserWarning: Lazy modules are a new feature under heavy development so changes to the API or functionality can happen at any moment.\n",
            "  warnings.warn('Lazy modules are a new feature under heavy development '\n"
          ]
        },
        {
          "output_type": "stream",
          "name": "stdout",
          "text": [
            "  epoch    train_loss    valid_acc    valid_loss     dur\n",
            "-------  ------------  -----------  ------------  ------\n",
            "      1        \u001b[36m0.7458\u001b[0m       \u001b[32m0.9374\u001b[0m        \u001b[35m0.2793\u001b[0m  4.1657\n",
            "      2        \u001b[36m0.2158\u001b[0m       \u001b[32m0.9553\u001b[0m        \u001b[35m0.1775\u001b[0m  4.1323\n",
            "      3        \u001b[36m0.1543\u001b[0m       \u001b[32m0.9617\u001b[0m        \u001b[35m0.1422\u001b[0m  4.6302\n",
            "      4        \u001b[36m0.1254\u001b[0m       \u001b[32m0.9649\u001b[0m        \u001b[35m0.1235\u001b[0m  4.2477\n",
            "      5        \u001b[36m0.1078\u001b[0m       \u001b[32m0.9686\u001b[0m        \u001b[35m0.1120\u001b[0m  4.3063\n",
            "      6        \u001b[36m0.0956\u001b[0m       \u001b[32m0.9694\u001b[0m        \u001b[35m0.1034\u001b[0m  4.5593\n",
            "      7        \u001b[36m0.0866\u001b[0m       \u001b[32m0.9709\u001b[0m        \u001b[35m0.0967\u001b[0m  4.1262\n",
            "      8        \u001b[36m0.0794\u001b[0m       \u001b[32m0.9724\u001b[0m        \u001b[35m0.0918\u001b[0m  4.7986\n",
            "      9        \u001b[36m0.0737\u001b[0m       \u001b[32m0.9741\u001b[0m        \u001b[35m0.0874\u001b[0m  4.2416\n",
            "     10        \u001b[36m0.0689\u001b[0m       \u001b[32m0.9752\u001b[0m        \u001b[35m0.0836\u001b[0m  4.2021\n"
          ]
        }
      ]
    },
    {
      "cell_type": "code",
      "source": [
        "from sklearn.metrics import accuracy_score\n",
        "\n",
        "predicted_labels = pred_probs.argmax(axis=1)\n",
        "acc = accuracy_score(y_train, predicted_labels)\n",
        "print(f\"Cross-validated estimate of accuracy on held-out data: {acc}\")"
      ],
      "metadata": {
        "colab": {
          "base_uri": "https://localhost:8080/"
        },
        "id": "_4ffjT_qZitz",
        "outputId": "19f8abc9-9dd9-4591-936d-a0331837e329"
      },
      "execution_count": 100,
      "outputs": [
        {
          "output_type": "stream",
          "name": "stdout",
          "text": [
            "Cross-validated estimate of accuracy on held-out data: 0.9734666666666667\n"
          ]
        }
      ]
    },
    {
      "cell_type": "code",
      "source": [
        "!pip install cleanlab"
      ],
      "metadata": {
        "colab": {
          "base_uri": "https://localhost:8080/"
        },
        "id": "bY1tes4GezNm",
        "outputId": "b3343a2a-60d4-4f4f-c444-78ece5e5ee49"
      },
      "execution_count": 85,
      "outputs": [
        {
          "output_type": "stream",
          "name": "stdout",
          "text": [
            "Collecting cleanlab\n",
            "  Downloading cleanlab-2.4.0-py3-none-any.whl (225 kB)\n",
            "\u001b[?25l     \u001b[90m━━━━━━━━━━━━━━━━━━━━━━━━━━━━━━━━━━━━━━━━\u001b[0m \u001b[32m0.0/225.1 kB\u001b[0m \u001b[31m?\u001b[0m eta \u001b[36m-:--:--\u001b[0m\r\u001b[2K     \u001b[91m━━━━━━━\u001b[0m\u001b[90m╺\u001b[0m\u001b[90m━━━━━━━━━━━━━━━━━━━━━━━━━━━━━━━━\u001b[0m \u001b[32m41.0/225.1 kB\u001b[0m \u001b[31m1.1 MB/s\u001b[0m eta \u001b[36m0:00:01\u001b[0m\r\u001b[2K     \u001b[91m━━━━━━━━━━━━━━━━━━━━━━━━━━━━━━━━━━━━━\u001b[0m\u001b[90m╺\u001b[0m\u001b[90m━\u001b[0m \u001b[32m215.0/225.1 kB\u001b[0m \u001b[31m3.4 MB/s\u001b[0m eta \u001b[36m0:00:01\u001b[0m\r\u001b[2K     \u001b[90m━━━━━━━━━━━━━━━━━━━━━━━━━━━━━━━━━━━━━━━\u001b[0m \u001b[32m225.1/225.1 kB\u001b[0m \u001b[31m3.1 MB/s\u001b[0m eta \u001b[36m0:00:00\u001b[0m\n",
            "\u001b[?25hRequirement already satisfied: numpy>=1.20.0 in /usr/local/lib/python3.10/dist-packages (from cleanlab) (1.23.5)\n",
            "Requirement already satisfied: scikit-learn>=1.0 in /usr/local/lib/python3.10/dist-packages (from cleanlab) (1.2.2)\n",
            "Requirement already satisfied: tqdm>=4.53.0 in /usr/local/lib/python3.10/dist-packages (from cleanlab) (4.65.0)\n",
            "Requirement already satisfied: pandas>=1.1.5 in /usr/local/lib/python3.10/dist-packages (from cleanlab) (1.5.3)\n",
            "Requirement already satisfied: termcolor>=2.0.0 in /usr/local/lib/python3.10/dist-packages (from cleanlab) (2.3.0)\n",
            "Requirement already satisfied: python-dateutil>=2.8.1 in /usr/local/lib/python3.10/dist-packages (from pandas>=1.1.5->cleanlab) (2.8.2)\n",
            "Requirement already satisfied: pytz>=2020.1 in /usr/local/lib/python3.10/dist-packages (from pandas>=1.1.5->cleanlab) (2022.7.1)\n",
            "Requirement already satisfied: scipy>=1.3.2 in /usr/local/lib/python3.10/dist-packages (from scikit-learn>=1.0->cleanlab) (1.10.1)\n",
            "Requirement already satisfied: joblib>=1.1.1 in /usr/local/lib/python3.10/dist-packages (from scikit-learn>=1.0->cleanlab) (1.3.1)\n",
            "Requirement already satisfied: threadpoolctl>=2.0.0 in /usr/local/lib/python3.10/dist-packages (from scikit-learn>=1.0->cleanlab) (3.2.0)\n",
            "Requirement already satisfied: six>=1.5 in /usr/local/lib/python3.10/dist-packages (from python-dateutil>=2.8.1->pandas>=1.1.5->cleanlab) (1.16.0)\n",
            "Installing collected packages: cleanlab\n",
            "Successfully installed cleanlab-2.4.0\n"
          ]
        }
      ]
    },
    {
      "cell_type": "code",
      "source": [
        "from cleanlab.filter import find_label_issues\n",
        "\n",
        "ranked_label_issues = find_label_issues(\n",
        "    y_train,\n",
        "    pred_probs,\n",
        "    return_indices_ranked_by=\"self_confidence\",\n",
        ")\n",
        "\n",
        "print(f\"Cleanlab found {len(ranked_label_issues)} label issues.\")\n",
        "print(f\"Top 15 most likely label errors: \\n{ranked_label_issues}\")"
      ],
      "metadata": {
        "colab": {
          "base_uri": "https://localhost:8080/"
        },
        "id": "z5WVwuVtexN8",
        "outputId": "8abc9a18-e451-46ae-9a4a-99b703ee02f5"
      },
      "execution_count": 99,
      "outputs": [
        {
          "output_type": "stream",
          "name": "stdout",
          "text": [
            "Cleanlab found 113 label issues.\n",
            "Top 15 most likely label errors: \n",
            "[24798 59915  8729 59701   902 26560  2676 31134 53216 30049 49543  7010\n",
            " 51248  7080 50239 20773 13082  1604 20672 10251 43658 19124 33388  2720\n",
            " 35616 37038 12183 50632 10994 35234 40378 30604 52324 17551 44848 25678\n",
            " 26376 28556 57662  9098 12559  8898 11885  4502  6848 27254  6448 51944\n",
            " 43454 46373 37834 19244 20735  9472 24938 25800 39184 51600  8904 28652\n",
            "  2098 29062  6658 31962 12679 14582 39683 26626 50329 56596 39377 33768\n",
            " 41396 15450 21348 25562 43783 45761 27155 51986 50698 46435 11536 13452\n",
            " 12778 33130 41284  5718 32419 28310 20903 20018 30810  5896 34902  7530\n",
            " 39425 42566 52801 34615 55598 31428 36104 12585 24274 31274  1244 55870\n",
            " 34750 45888 26749 31547 24432]\n"
          ]
        }
      ]
    },
    {
      "cell_type": "code",
      "source": [],
      "metadata": {
        "id": "9Rx6S1qxr51t"
      },
      "execution_count": null,
      "outputs": []
    },
    {
      "cell_type": "code",
      "source": [
        "import numpy as np\n",
        "from sklearn.datasets import fetch_openml\n",
        "from sklearn.model_selection import train_test_split\n",
        "from sklearn.linear_model import LogisticRegression\n",
        "from labelrefinery import LabelRefinery\n",
        "\n",
        "# Load the MNIST dataset\n",
        "mnist = fetch_openml('mnist_784', version=1)\n",
        "X, y = mnist.data, mnist.target.astype(int)\n",
        "\n",
        "# Split the dataset into training and testing sets\n",
        "X_train, X_test, y_train, y_test = train_test_split(X, y, test_size=0.2, random_state=42)\n",
        "\n",
        "# Create a LabelRefinery model and fit it on the training data\n",
        "refinery = LabelRefinery()\n",
        "refinery.fit(X_train, y_train)\n",
        "\n",
        "# Refine the labels of the testing data\n",
        "refined_labels = refinery.refine(X_test)\n",
        "\n",
        "# Train a machine learning model using refined labels\n",
        "model = LogisticRegression(max_iter=100)\n",
        "model.fit(X_train, refined_labels)\n",
        "\n",
        "# Evaluate the model using original and refined labels\n",
        "original_accuracy = model.score(X_test, y_test)\n",
        "refined_accuracy = model.score(X_test, refined_labels)\n",
        "\n",
        "print(f\"Original Accuracy: {original_accuracy:.4f}\")\n",
        "print(f\"Refined Accuracy: {refined_accuracy:.4f}\")"
      ],
      "metadata": {
        "colab": {
          "base_uri": "https://localhost:8080/",
          "height": 418
        },
        "id": "08rw_lVlrwqj",
        "outputId": "3979b1c6-4860-47d4-85a4-22b8e321458e"
      },
      "execution_count": 103,
      "outputs": [
        {
          "output_type": "stream",
          "name": "stdout",
          "text": [
            "\u001b[31mERROR: Could not find a version that satisfies the requirement labelrefinery (from versions: none)\u001b[0m\u001b[31m\n",
            "\u001b[0m\u001b[31mERROR: No matching distribution found for labelrefinery\u001b[0m\u001b[31m\n",
            "\u001b[0m"
          ]
        },
        {
          "output_type": "error",
          "ename": "ModuleNotFoundError",
          "evalue": "ignored",
          "traceback": [
            "\u001b[0;31m---------------------------------------------------------------------------\u001b[0m",
            "\u001b[0;31mModuleNotFoundError\u001b[0m                       Traceback (most recent call last)",
            "\u001b[0;32m<ipython-input-103-f5224810b833>\u001b[0m in \u001b[0;36m<cell line: 7>\u001b[0;34m()\u001b[0m\n\u001b[1;32m      5\u001b[0m \u001b[0;32mfrom\u001b[0m \u001b[0msklearn\u001b[0m\u001b[0;34m.\u001b[0m\u001b[0mmodel_selection\u001b[0m \u001b[0;32mimport\u001b[0m \u001b[0mtrain_test_split\u001b[0m\u001b[0;34m\u001b[0m\u001b[0;34m\u001b[0m\u001b[0m\n\u001b[1;32m      6\u001b[0m \u001b[0;32mfrom\u001b[0m \u001b[0msklearn\u001b[0m\u001b[0;34m.\u001b[0m\u001b[0mlinear_model\u001b[0m \u001b[0;32mimport\u001b[0m \u001b[0mLogisticRegression\u001b[0m\u001b[0;34m\u001b[0m\u001b[0;34m\u001b[0m\u001b[0m\n\u001b[0;32m----> 7\u001b[0;31m \u001b[0;32mfrom\u001b[0m \u001b[0mlabelrefinery\u001b[0m \u001b[0;32mimport\u001b[0m \u001b[0mLabelRefinery\u001b[0m\u001b[0;34m\u001b[0m\u001b[0;34m\u001b[0m\u001b[0m\n\u001b[0m\u001b[1;32m      8\u001b[0m \u001b[0;34m\u001b[0m\u001b[0m\n\u001b[1;32m      9\u001b[0m \u001b[0;31m# Load the MNIST dataset\u001b[0m\u001b[0;34m\u001b[0m\u001b[0;34m\u001b[0m\u001b[0m\n",
            "\u001b[0;31mModuleNotFoundError\u001b[0m: No module named 'labelrefinery'",
            "",
            "\u001b[0;31m---------------------------------------------------------------------------\u001b[0;32m\nNOTE: If your import is failing due to a missing package, you can\nmanually install dependencies using either !pip or !apt.\n\nTo view examples of installing some common dependencies, click the\n\"Open Examples\" button below.\n\u001b[0;31m---------------------------------------------------------------------------\u001b[0m\n"
          ],
          "errorDetails": {
            "actions": [
              {
                "action": "open_url",
                "actionText": "Open Examples",
                "url": "/notebooks/snippets/importing_libraries.ipynb"
              }
            ]
          }
        }
      ]
    },
    {
      "cell_type": "code",
      "source": [
        "!pip install dirty_cat"
      ],
      "metadata": {
        "colab": {
          "base_uri": "https://localhost:8080/"
        },
        "id": "tCRzPO20Z6CC",
        "outputId": "393aa7f7-0128-4afc-f457-35541a8c7aeb"
      },
      "execution_count": 2,
      "outputs": [
        {
          "output_type": "stream",
          "name": "stdout",
          "text": [
            "Collecting dirty_cat\n",
            "  Downloading dirty_cat-0.4.1-py3-none-any.whl (125 kB)\n",
            "\u001b[?25l     \u001b[90m━━━━━━━━━━━━━━━━━━━━━━━━━━━━━━━━━━━━━━━━\u001b[0m \u001b[32m0.0/125.8 kB\u001b[0m \u001b[31m?\u001b[0m eta \u001b[36m-:--:--\u001b[0m\r\u001b[2K     \u001b[91m━━━━━━━━━━━━━━━━━━━━━━\u001b[0m\u001b[91m╸\u001b[0m\u001b[90m━━━━━━━━━━━━━━━━━\u001b[0m \u001b[32m71.7/125.8 kB\u001b[0m \u001b[31m2.0 MB/s\u001b[0m eta \u001b[36m0:00:01\u001b[0m\r\u001b[2K     \u001b[90m━━━━━━━━━━━━━━━━━━━━━━━━━━━━━━━━━━━━━━━\u001b[0m \u001b[32m125.8/125.8 kB\u001b[0m \u001b[31m2.2 MB/s\u001b[0m eta \u001b[36m0:00:00\u001b[0m\n",
            "\u001b[?25hRequirement already satisfied: scikit-learn>=0.23.0 in /usr/local/lib/python3.10/dist-packages (from dirty_cat) (1.2.2)\n",
            "Requirement already satisfied: numpy>=1.17.3 in /usr/local/lib/python3.10/dist-packages (from dirty_cat) (1.23.5)\n",
            "Requirement already satisfied: scipy>=1.4.0 in /usr/local/lib/python3.10/dist-packages (from dirty_cat) (1.10.1)\n",
            "Requirement already satisfied: pandas>=1.2.0 in /usr/local/lib/python3.10/dist-packages (from dirty_cat) (1.5.3)\n",
            "Requirement already satisfied: requests in /usr/local/lib/python3.10/dist-packages (from dirty_cat) (2.31.0)\n",
            "Requirement already satisfied: joblib in /usr/local/lib/python3.10/dist-packages (from dirty_cat) (1.3.1)\n",
            "Requirement already satisfied: pyarrow in /usr/local/lib/python3.10/dist-packages (from dirty_cat) (9.0.0)\n",
            "Requirement already satisfied: python-dateutil>=2.8.1 in /usr/local/lib/python3.10/dist-packages (from pandas>=1.2.0->dirty_cat) (2.8.2)\n",
            "Requirement already satisfied: pytz>=2020.1 in /usr/local/lib/python3.10/dist-packages (from pandas>=1.2.0->dirty_cat) (2022.7.1)\n",
            "Requirement already satisfied: threadpoolctl>=2.0.0 in /usr/local/lib/python3.10/dist-packages (from scikit-learn>=0.23.0->dirty_cat) (3.2.0)\n",
            "Requirement already satisfied: charset-normalizer<4,>=2 in /usr/local/lib/python3.10/dist-packages (from requests->dirty_cat) (3.2.0)\n",
            "Requirement already satisfied: idna<4,>=2.5 in /usr/local/lib/python3.10/dist-packages (from requests->dirty_cat) (3.4)\n",
            "Requirement already satisfied: urllib3<3,>=1.21.1 in /usr/local/lib/python3.10/dist-packages (from requests->dirty_cat) (1.26.16)\n",
            "Requirement already satisfied: certifi>=2017.4.17 in /usr/local/lib/python3.10/dist-packages (from requests->dirty_cat) (2023.7.22)\n",
            "Requirement already satisfied: six>=1.5 in /usr/local/lib/python3.10/dist-packages (from python-dateutil>=2.8.1->pandas>=1.2.0->dirty_cat) (1.16.0)\n",
            "Installing collected packages: dirty_cat\n",
            "Successfully installed dirty_cat-0.4.1\n"
          ]
        }
      ]
    },
    {
      "cell_type": "code",
      "source": [
        "import numpy as np\n",
        "from dirty_cat import datasets, label_noise\n",
        "\n",
        "# Load a synthetic dataset with categorical features\n",
        "X, y = datasets.load_categorical(n_samples=100, n_features=2, n_informative=2, n_clusters_per_class=1, random_state=42)\n",
        "\n",
        "# Introduce label noise\n",
        "np.random.seed(42)\n",
        "y_noisy = np.where(y == 0, np.random.choice([0, 1], size=len(y), p=[0.9, 0.1]), y)\n",
        "\n",
        "# Correct noisy labels using the LabelEncoder from dirty_cat\n",
        "encoder = label_noise.clean_label()\n",
        "y_corrected = encoder.fit_transform(X, y_noisy)\n",
        "\n",
        "# Print the original, noisy, and corrected labels\n",
        "print(\"Original Labels:\", y)\n",
        "print(\"Noisy Labels:\", y_noisy)\n",
        "print(\"Corrected Labels:\", y_corrected)"
      ],
      "metadata": {
        "colab": {
          "base_uri": "https://localhost:8080/",
          "height": 383
        },
        "id": "V0WDSKNlksYk",
        "outputId": "487a3391-847f-45bc-f474-a3fad307ebbf"
      },
      "execution_count": 4,
      "outputs": [
        {
          "output_type": "error",
          "ename": "ImportError",
          "evalue": "ignored",
          "traceback": [
            "\u001b[0;31m---------------------------------------------------------------------------\u001b[0m",
            "\u001b[0;31mImportError\u001b[0m                               Traceback (most recent call last)",
            "\u001b[0;32m<ipython-input-4-2e7066a4aadb>\u001b[0m in \u001b[0;36m<cell line: 2>\u001b[0;34m()\u001b[0m\n\u001b[1;32m      1\u001b[0m \u001b[0;32mimport\u001b[0m \u001b[0mnumpy\u001b[0m \u001b[0;32mas\u001b[0m \u001b[0mnp\u001b[0m\u001b[0;34m\u001b[0m\u001b[0;34m\u001b[0m\u001b[0m\n\u001b[0;32m----> 2\u001b[0;31m \u001b[0;32mfrom\u001b[0m \u001b[0mdirty_cat\u001b[0m \u001b[0;32mimport\u001b[0m \u001b[0mdatasets\u001b[0m\u001b[0;34m,\u001b[0m \u001b[0mlabel_noise\u001b[0m\u001b[0;34m\u001b[0m\u001b[0;34m\u001b[0m\u001b[0m\n\u001b[0m\u001b[1;32m      3\u001b[0m \u001b[0;34m\u001b[0m\u001b[0m\n\u001b[1;32m      4\u001b[0m \u001b[0;31m# Load a synthetic dataset with categorical features\u001b[0m\u001b[0;34m\u001b[0m\u001b[0;34m\u001b[0m\u001b[0m\n\u001b[1;32m      5\u001b[0m \u001b[0mX\u001b[0m\u001b[0;34m,\u001b[0m \u001b[0my\u001b[0m \u001b[0;34m=\u001b[0m \u001b[0mdatasets\u001b[0m\u001b[0;34m.\u001b[0m\u001b[0mload_categorical\u001b[0m\u001b[0;34m(\u001b[0m\u001b[0mn_samples\u001b[0m\u001b[0;34m=\u001b[0m\u001b[0;36m100\u001b[0m\u001b[0;34m,\u001b[0m \u001b[0mn_features\u001b[0m\u001b[0;34m=\u001b[0m\u001b[0;36m2\u001b[0m\u001b[0;34m,\u001b[0m \u001b[0mn_informative\u001b[0m\u001b[0;34m=\u001b[0m\u001b[0;36m2\u001b[0m\u001b[0;34m,\u001b[0m \u001b[0mn_clusters_per_class\u001b[0m\u001b[0;34m=\u001b[0m\u001b[0;36m1\u001b[0m\u001b[0;34m,\u001b[0m \u001b[0mrandom_state\u001b[0m\u001b[0;34m=\u001b[0m\u001b[0;36m42\u001b[0m\u001b[0;34m)\u001b[0m\u001b[0;34m\u001b[0m\u001b[0;34m\u001b[0m\u001b[0m\n",
            "\u001b[0;31mImportError\u001b[0m: cannot import name 'label_noise' from 'dirty_cat' (/usr/local/lib/python3.10/dist-packages/dirty_cat/__init__.py)",
            "",
            "\u001b[0;31m---------------------------------------------------------------------------\u001b[0;32m\nNOTE: If your import is failing due to a missing package, you can\nmanually install dependencies using either !pip or !apt.\n\nTo view examples of installing some common dependencies, click the\n\"Open Examples\" button below.\n\u001b[0;31m---------------------------------------------------------------------------\u001b[0m\n"
          ],
          "errorDetails": {
            "actions": [
              {
                "action": "open_url",
                "actionText": "Open Examples",
                "url": "/notebooks/snippets/importing_libraries.ipynb"
              }
            ]
          }
        }
      ]
    }
  ]
}